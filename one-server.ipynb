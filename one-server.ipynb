{
 "cells": [
  {
   "cell_type": "code",
   "execution_count": 7,
   "metadata": {
    "ExecuteTime": {
     "start_time": "2023-04-17T13:45:09.593288Z",
     "end_time": "2023-04-17T13:45:09.608914Z"
    }
   },
   "outputs": [],
   "source": [
    "import matplotlib.pyplot as plt\n",
    "import numpy as np\n",
    "import scipy.stats as st"
   ]
  },
  {
   "cell_type": "code",
   "execution_count": 8,
   "metadata": {
    "ExecuteTime": {
     "start_time": "2023-04-17T13:45:09.608914Z",
     "end_time": "2023-04-17T13:45:09.640164Z"
    }
   },
   "outputs": [],
   "source": [
    "rnd = np.random\n",
    "rnd.seed(1)"
   ]
  },
  {
   "cell_type": "code",
   "execution_count": 9,
   "metadata": {
    "ExecuteTime": {
     "start_time": "2023-04-17T13:45:09.624537Z",
     "end_time": "2023-04-17T13:45:09.640164Z"
    }
   },
   "outputs": [],
   "source": [
    "end_time = 60 * 8\n",
    "fel = [{'Type': 'Llegada', 't': st.expon.ppf(rnd.rand(), loc=0, scale=3)}]\n",
    "clock = 0\n",
    "Q = 0\n",
    "Cajero = 0\n",
    "Cliente = 0\n",
    "lq = [(0, 0, 0, 0, 0)]\n",
    "Tiempo_espera = [(0, 0)]"
   ]
  },
  {
   "cell_type": "code",
   "execution_count": 10,
   "metadata": {
    "ExecuteTime": {
     "start_time": "2023-04-17T13:45:09.640164Z",
     "end_time": "2023-04-17T13:45:09.693780Z"
    }
   },
   "outputs": [],
   "source": [
    "while clock <= end_time:\n",
    "    fel = sorted(fel, key=lambda e: e['t'])\n",
    "    current_event = fel.pop(0)\n",
    "\n",
    "    previous_q = Q\n",
    "    previous_clock = clock\n",
    "\n",
    "    clock = current_event['t']\n",
    "\n",
    "    if current_event['Type'] == 'Llegada':\n",
    "        Cliente += 1\n",
    "        if Cajero == 0:\n",
    "            Cajero = 1\n",
    "            fel.append({'Type': 'Atencion', 't': clock + st.expon.ppf(rnd.rand(), loc=0, scale=2)})\n",
    "\n",
    "        else:\n",
    "            Q += 1\n",
    "\n",
    "        fel.append({'Type': 'Llegada', 't': clock + st.expon.ppf(rnd.rand(), loc=0, scale=3)})\n",
    "\n",
    "\n",
    "    elif current_event['Type'] == 'Atencion':\n",
    "        if Q > 0:\n",
    "            Q -= 1\n",
    "            Cajero = 1\n",
    "            fel.append({'Type': 'Atencion', 't': clock + st.expon.ppf(rnd.rand(), loc=0, scale=2)})\n",
    "\n",
    "        else:\n",
    "            Cajero = 0\n",
    "\n",
    "    lq.append((clock, Q, previous_clock, clock - previous_clock, previous_q))\n",
    "    Tiempo_espera.append(())"
   ]
  },
  {
   "cell_type": "code",
   "execution_count": 11,
   "metadata": {
    "ExecuteTime": {
     "start_time": "2023-04-17T13:45:09.693780Z",
     "end_time": "2023-04-17T13:45:09.835171Z"
    }
   },
   "outputs": [
    {
     "data": {
      "text/plain": "[<matplotlib.lines.Line2D at 0x23380469180>]"
     },
     "execution_count": 11,
     "metadata": {},
     "output_type": "execute_result"
    },
    {
     "data": {
      "text/plain": "<Figure size 1500x400 with 1 Axes>",
      "image/png": "[encoded data removed]"
     },
     "metadata": {},
     "output_type": "display_data"
    }
   ],
   "source": [
    "plt.figure(figsize=(15, 4))\n",
    "plt.step([v[0] for v in lq], [v[1] for v in lq])"
   ]
  },
  {
   "cell_type": "code",
   "execution_count": 12,
   "outputs": [
    {
     "data": {
      "text/plain": "0.8212137034143582"
     },
     "execution_count": 12,
     "metadata": {},
     "output_type": "execute_result"
    }
   ],
   "source": [
    "sum(e[3]*e[4] for e in lq)/end_time"
   ],
   "metadata": {
    "collapsed": false,
    "ExecuteTime": {
     "start_time": "2023-04-17T13:45:09.835171Z",
     "end_time": "2023-04-17T13:45:09.897989Z"
    }
   }
  }
 ],
 "metadata": {
  "kernelspec": {
   "display_name": "Python 3 (ipykernel)",
   "language": "python",
   "name": "python3"
  },
  "language_info": {
   "codemirror_mode": {
    "name": "ipython",
    "version": 3
   },
   "file_extension": ".py",
   "mimetype": "text/x-python",
   "name": "python",
   "nbconvert_exporter": "python",
   "pygments_lexer": "ipython3",
   "version": "3.10.9"
  }
 },
 "nbformat": 4,
 "nbformat_minor": 4
}
